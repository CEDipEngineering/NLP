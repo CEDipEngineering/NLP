{
 "cells": [
  {
   "cell_type": "code",
   "execution_count": null,
   "metadata": {},
   "outputs": [],
   "source": [
    "import matplotlib.pyplot as plt\n",
    "plt.style.use('default')\n",
    "import numpy as np\n",
    "import re\n",
    "import nltk"
   ]
  },
  {
   "cell_type": "code",
   "execution_count": null,
   "metadata": {},
   "outputs": [],
   "source": [
    "from nltk.tag import DefaultTagger \n",
    "default_tagger = DefaultTagger('PU')\n",
    "frase = \"uma frase qualquer\".split()\n",
    "default_tagger.tag(frase)"
   ]
  },
  {
   "cell_type": "code",
   "execution_count": null,
   "metadata": {},
   "outputs": [],
   "source": []
  },
  {
   "cell_type": "code",
   "execution_count": null,
   "metadata": {},
   "outputs": [],
   "source": [
    "# Carregar o corpus e pré-processar\n",
    "s = open('./datasets/macmorpho-train.txt', 'r', encoding='utf-8').read()\n",
    "s = re.split(r'\\.+_PU', s)\n",
    "s = [s0.strip() for s0 in s]\n",
    "s = [re.split('\\s+', s0) for s0 in s]\n",
    "s = [ [ tuple(re.split('_', w0)) for w0 in p] for p in s]\n",
    "s = [ [ w for w in p if len(w)==2 ] for p in s ] \n",
    "s = [ [ (w[0].lower(), w[1]) for w in p] for p in s ]\n",
    "s = [p for p in s if len(p)>5]      \n",
    "# s[frase][palavra] = (palavra, tipo)\n",
    "print(s[0:2])"
   ]
  },
  {
   "cell_type": "code",
   "execution_count": null,
   "metadata": {},
   "outputs": [],
   "source": [
    "# Carregar o corpus de teste\n",
    "# Carregar o corpus e pré-processar\n",
    "s_ = open('./datasets/macmorpho-test.txt', 'r', encoding='utf-8').read()\n",
    "s_ = re.split(r'\\.+_PU', s_)\n",
    "s_ = [s0.strip() for s0 in s_]\n",
    "s_ = [re.split('\\s+', s0) for s0 in s_]\n",
    "s_ = [ [ tuple(re.split('_', w0)) for w0 in p] for p in s_]\n",
    "#s = [ [ t for t in p if t[0] in vocab.keys() ] for p in s ]\n",
    "s_ = [ [ w for w in p if len(w)==2 ] for p in s_ ] \n",
    "s_ = [ [ (w[0].lower(), w[1]) for w in p] for p in s_ ]\n",
    "s_ = [p for p in s_ if len(p)>5]\n",
    "# s[frase][palavra] = (palavra, tipo)"
   ]
  },
  {
   "cell_type": "code",
   "execution_count": null,
   "metadata": {},
   "outputs": [],
   "source": []
  },
  {
   "cell_type": "code",
   "execution_count": null,
   "metadata": {},
   "outputs": [],
   "source": [
    "default_tagger.evaluate(s_)"
   ]
  },
  {
   "cell_type": "code",
   "execution_count": null,
   "metadata": {},
   "outputs": [],
   "source": []
  },
  {
   "cell_type": "code",
   "execution_count": null,
   "metadata": {},
   "outputs": [],
   "source": [
    "from nltk.tag import UnigramTagger\n",
    "unigram_tagger = UnigramTagger(s, backoff=default_tagger)\n",
    "unigram_tagger.evaluate(s_)"
   ]
  },
  {
   "cell_type": "code",
   "execution_count": null,
   "metadata": {},
   "outputs": [],
   "source": [
    "unigram_tagger.tag(\"Segurando a vela a viúva vela seu finado esposo\".split())"
   ]
  },
  {
   "cell_type": "code",
   "execution_count": null,
   "metadata": {},
   "outputs": [],
   "source": [
    "from nltk.tag import AffixTagger \n",
    "affix_tagger = AffixTagger(s, affix_length=-3, min_stem_length=2)\n",
    "affix_tagger.evaluate(s_)"
   ]
  },
  {
   "cell_type": "code",
   "execution_count": null,
   "metadata": {},
   "outputs": [],
   "source": [
    "from nltk.tag import BigramTagger\n",
    "tagger = BigramTagger(s)\n",
    "tagger.evaluate(s_)"
   ]
  },
  {
   "cell_type": "code",
   "execution_count": null,
   "metadata": {},
   "outputs": [],
   "source": [
    "#frase = \"São Paulo é uma cidade grande\"\n",
    "frase = \"As pessoas são tão loucas\"\n",
    "print(tagger.tag(frase.lower().split()))\n"
   ]
  },
  {
   "cell_type": "code",
   "execution_count": null,
   "metadata": {},
   "outputs": [],
   "source": [
    "from nltk.tag import NgramTagger\n",
    "ngram_tagger = NgramTagger(1, s)\n",
    "ngram_tagger.evaluate(s_)\n"
   ]
  },
  {
   "cell_type": "code",
   "execution_count": null,
   "metadata": {},
   "outputs": [],
   "source": [
    "taggers = []\n",
    "taggers.append(DefaultTagger('N'))\n",
    "\n",
    "for n in range(3):\n",
    "    taggers.append(NgramTagger(n+1, s, backoff=taggers[n]))\n"
   ]
  },
  {
   "cell_type": "code",
   "execution_count": null,
   "metadata": {},
   "outputs": [],
   "source": [
    "acc = []\n",
    "for t in taggers:\n",
    "    acc.append(t.evaluate(s_))\n",
    "print(acc)"
   ]
  },
  {
   "cell_type": "code",
   "execution_count": null,
   "metadata": {},
   "outputs": [],
   "source": [
    "plt.figure()\n",
    "plt.plot(np.arange(len(acc)), acc)\n",
    "plt.show()"
   ]
  },
  {
   "cell_type": "code",
   "execution_count": null,
   "metadata": {},
   "outputs": [],
   "source": []
  },
  {
   "cell_type": "code",
   "execution_count": null,
   "metadata": {},
   "outputs": [],
   "source": [
    "import nltk\n",
    "nltk.download('averaged_perceptron_tagger')\n",
    "from nltk import pos_tag\n",
    "pos_tag(\"this is my testing sentence\".split())"
   ]
  },
  {
   "cell_type": "code",
   "execution_count": null,
   "metadata": {},
   "outputs": [],
   "source": [
    "def lexical_density(sentence):\n",
    "    tagr = taggers[-1]\n",
    "    tags = tagr.tag(sentence.split())\n",
    "    count = 0\n",
    "    hit = 0\n",
    "    print(tags)\n",
    "    for i in tags:\n",
    "        if i[1] == \"N\" or i[1] == \"V\" or i[1] == \"NPROP\" or i[1] == \"VAUX\":\n",
    "            hit += 1\n",
    "        count += 1 \n",
    "    return hit/count\n",
    "sentence = \"O grande assunto da semana em Nova York é o filme do Batman já que nele o ator principal come caçarola\"\n",
    "print(lexical_density(sentence))\n",
    "print(lexical_density(\"Hércules derrotou brilhantemente o terrível Leão de Neméia\"))\n",
    "print(lexical_density(\"Comecei a cozinhar pra valer mesmo em 2011, ano que casei. Porém um pouco antes, quando ainda estava procurando apartamento, já sabia que queria uma cozinha tipo americana, afinal, cozinhar e conversar ao mesmo tempo era essencial\"))"
   ]
  },
  {
   "cell_type": "code",
   "execution_count": 25,
   "metadata": {},
   "outputs": [],
   "source": [
    "\n",
    "import pandas as pd\n",
    "from nltk import pos_tag\n",
    "from sklearn.feature_extraction.text import CountVectorizer\n",
    "import matplotlib.pyplot as plt\n",
    "plt.style.use('default')\n",
    "import numpy as np\n",
    "import unidecode\n",
    "import urllib\n",
    "import string\n",
    "\n",
    "stopwords_list = urllib.request.urlopen(\"https://gist.githubusercontent.com/rg089/35e00abf8941d72d419224cfd5b5925d/raw/12d899b70156fd0041fa9778d657330b024b959c/stopwords.txt\").read().decode()\n",
    "stopwords_en = set(stopwords_list.split())\n",
    "stopwords_en.remove(\"not\")\n",
    "\n",
    "df = pd.read_csv('./datasets/IMDB Dataset.csv')"
   ]
  },
  {
   "cell_type": "code",
   "execution_count": null,
   "metadata": {},
   "outputs": [],
   "source": [
    "reviews_v"
   ]
  },
  {
   "cell_type": "code",
   "execution_count": 28,
   "metadata": {},
   "outputs": [
    {
     "name": "stderr",
     "output_type": "stream",
     "text": [
      "/home/user/.local/lib/python3.8/site-packages/sklearn/feature_extraction/text.py:396: UserWarning: Your stop_words may be inconsistent with your preprocessing. Tokenizing the stop words generated tokens ['articl', 'mon'] not in stop_words.\n",
      "  warnings.warn(\n"
     ]
    },
    {
     "data": {
      "image/png": "[encoded data removed]",
      "text/plain": [
       "<Figure size 1400x300 with 1 Axes>"
      ]
     },
     "metadata": {},
     "output_type": "display_data"
    }
   ],
   "source": [
    "\n",
    "# Passo 1: executar vectorizer ao longo de toda a coleção\n",
    "reviews = [s for s in df['review']]\n",
    "vectorizer = CountVectorizer(binary=True, stop_words=stopwords_en)\n",
    "x = vectorizer.fit_transform(reviews)\n",
    "x_ = np.mean(x, axis=0)\n",
    "\n",
    "# Passo 2: escolher somente elementos correspondentes a cada categoria\n",
    "filtro_pos = df['sentiment']=='positive'\n",
    "x_pos = x[filtro_pos,:] # Escolho linhas com sentimento positivo\n",
    "x_pos_ = np.mean(x_pos, axis=0)\n",
    "filtro_neg = df['sentiment']=='negative'\n",
    "x_neg = x[filtro_neg,:] # Escolho linhas com sentimento negativo\n",
    "x_neg_ = np.mean(x_neg, axis=0)\n",
    "\n",
    "# Passo 3: ordenar palavras de acordo com a soma geral. Vou incluir tambem a contagem nos grupos positivo e negativo!\n",
    "tuplas = [ (\\\n",
    "            x_[0,vectorizer.vocabulary_[i]],\\\n",
    "            i,\\\n",
    "            x_pos_[0, vectorizer.vocabulary_[i]],\\\n",
    "            x_neg_[0, vectorizer.vocabulary_[i]]\\\n",
    "            ) for i in vectorizer.vocabulary_.keys() ]\n",
    "tuplas_ordenadas = sorted(tuplas, reverse=True)\n",
    "palavras = [ t[1] for t in tuplas_ordenadas ]\n",
    "contagens_pos = [ t[2] for t in tuplas_ordenadas ]\n",
    "contagens_neg = [ t[3] for t in tuplas_ordenadas ]\n",
    "\n",
    "eixo_x = np.arange(len(palavras))\n",
    "n_palavras = 15\n",
    "\n",
    "plt.figure(figsize=(14,3))\n",
    "plt.bar(eixo_x[0:n_palavras]-0.125, contagens_pos[0:n_palavras], width=0.25, label='positive')\n",
    "plt.bar(eixo_x[0:n_palavras]+0.125, contagens_neg[0:n_palavras],  width=0.25, label='negative')\n",
    "plt.legend()\n",
    "plt.xticks(eixo_x[0:n_palavras], palavras[0:n_palavras], rotation=90)\n",
    "plt.ylabel('P(word | class)')\n",
    "plt.xlabel('Words')\n",
    "plt.title('Probability of finding a word in a random document from known class')\n",
    "plt.show()\n"
   ]
  },
  {
   "cell_type": "code",
   "execution_count": null,
   "metadata": {},
   "outputs": [],
   "source": []
  },
  {
   "cell_type": "code",
   "execution_count": null,
   "metadata": {},
   "outputs": [],
   "source": []
  },
  {
   "cell_type": "code",
   "execution_count": null,
   "metadata": {},
   "outputs": [],
   "source": []
  }
 ],
 "metadata": {
  "interpreter": {
   "hash": "b3ba2566441a7c06988d0923437866b63cedc61552a5af99d1f4fb67d367b25f"
  },
  "kernelspec": {
   "display_name": "Python 3.9.7 64-bit ('base': conda)",
   "language": "python",
   "name": "python3"
  },
  "language_info": {
   "codemirror_mode": {
    "name": "ipython",
    "version": 3
   },
   "file_extension": ".py",
   "mimetype": "text/x-python",
   "name": "python",
   "nbconvert_exporter": "python",
   "pygments_lexer": "ipython3",
   "version": "3.8.10"
  },
  "orig_nbformat": 4
 },
 "nbformat": 4,
 "nbformat_minor": 2
}

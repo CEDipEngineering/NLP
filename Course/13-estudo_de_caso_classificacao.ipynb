{
 "cells": [
  {
   "cell_type": "code",
   "execution_count": 1,
   "metadata": {},
   "outputs": [],
   "source": [
    "import matplotlib.pyplot as plt\n",
    "plt.style.use('default')\n",
    "import pandas as pd\n",
    "import numpy as np\n",
    "from sklearn.model_selection import train_test_split, cross_validate\n",
    "from sklearn.naive_bayes import MultinomialNB\n",
    "from sklearn.linear_model import LogisticRegression\n",
    "from sklearn.ensemble import RandomForestClassifier\n",
    "from sklearn.feature_extraction.text import CountVectorizer, TfidfVectorizer\n",
    "from sklearn.metrics import classification_report\n",
    "import seaborn as sns\n",
    "from nltk.corpus import stopwords"
   ]
  },
  {
   "cell_type": "markdown",
   "metadata": {},
   "source": [
    "# Aula 13: Estudo de caso\n",
    "**Objetivo da aula:** ao fim desta aula o aluno terá proposto ideias para analisar e melhorar sistemas de detecção automática de *fake news*\n",
    "\n",
    "# Roteiro\n",
    "Nesta aula, usaremos técnicas de NLP para detectar automaticamente fake news em textos.\n",
    "\n",
    "## Dataset\n",
    "Nesta aula, trabalharemos com o dataset:\n",
    "\n",
    "https://www.kaggle.com/datasets/anmolkumar/fake-news-content-detection\n",
    "\n",
    "Enquanto você baixa o dataset (veja que ele já está separado em \"treino\" e \"teste\"!):\n",
    "1. O que significam as tags e as colunas do dataset?\n",
    "1. Seria possível agrupar rótulos do dataset, reduzindo o número de categorias?\n",
    "1. Quem rotulou o dataset? Qual foi o critério usado?\n",
    "1. Veja no próprio Kaggle outros trabalhos que já usaram os datasets. Que insights relevantes você consegue tirar deles?\n",
    "\n",
    "## Classificação\n",
    "1. Aplique os classificadores que você conhece neste problema de classificação.\n",
    "1. Avalie o desempenho dos classificadores\n",
    "1. Encontre uma explicação para os classificadores, isto é, verifique quais foram as palavras mais relevantes para sua classificação. Elas fazem sentido em relação ao problema? Por que?\n",
    "\n",
    "## Exploração de modelos\n",
    "1. Existem modificações que você poderia propor para o seu classificador usando outras técnicas de NLP (por exemplo: usar PoS Tagging, ontologias, lematização, stemming, etc.). Escolha uma modificação, aplique e avalie novamente os resultados.\n",
    "\n",
    "## Divulgação dos resultados\n",
    "1. Gere entre uma e cinco figuras mostrando compactamente seus achados. Lembre-se que as figuras devem ser auto-suficientes!\n",
    "1. Qual de seus achados é mais relevante para uma pessoa não-proficiente em NLP?\n",
    "1. Se sentir-se confortável, divulgue a figura em suas redes sociais, ou faça o upload de seu notebook para o Kaggle."
   ]
  },
  {
   "cell_type": "code",
   "execution_count": 2,
   "metadata": {},
   "outputs": [
    {
     "data": {
      "text/html": [
       "<div>\n",
       "<style scoped>\n",
       "    .dataframe tbody tr th:only-of-type {\n",
       "        vertical-align: middle;\n",
       "    }\n",
       "\n",
       "    .dataframe tbody tr th {\n",
       "        vertical-align: top;\n",
       "    }\n",
       "\n",
       "    .dataframe thead th {\n",
       "        text-align: right;\n",
       "    }\n",
       "</style>\n",
       "<table border=\"1\" class=\"dataframe\">\n",
       "  <thead>\n",
       "    <tr style=\"text-align: right;\">\n",
       "      <th></th>\n",
       "      <th>Labels</th>\n",
       "      <th>Text</th>\n",
       "      <th>Text_Tag</th>\n",
       "    </tr>\n",
       "  </thead>\n",
       "  <tbody>\n",
       "    <tr>\n",
       "      <th>0</th>\n",
       "      <td>1</td>\n",
       "      <td>Says the Annies List political group supports ...</td>\n",
       "      <td>abortion</td>\n",
       "    </tr>\n",
       "    <tr>\n",
       "      <th>1</th>\n",
       "      <td>2</td>\n",
       "      <td>When did the decline of coal start? It started...</td>\n",
       "      <td>energy,history,job-accomplishments</td>\n",
       "    </tr>\n",
       "    <tr>\n",
       "      <th>2</th>\n",
       "      <td>3</td>\n",
       "      <td>Hillary Clinton agrees with John McCain \"by vo...</td>\n",
       "      <td>foreign-policy</td>\n",
       "    </tr>\n",
       "    <tr>\n",
       "      <th>3</th>\n",
       "      <td>1</td>\n",
       "      <td>Health care reform legislation is likely to ma...</td>\n",
       "      <td>health-care</td>\n",
       "    </tr>\n",
       "    <tr>\n",
       "      <th>4</th>\n",
       "      <td>2</td>\n",
       "      <td>The economic turnaround started at the end of ...</td>\n",
       "      <td>economy,jobs</td>\n",
       "    </tr>\n",
       "    <tr>\n",
       "      <th>...</th>\n",
       "      <td>...</td>\n",
       "      <td>...</td>\n",
       "      <td>...</td>\n",
       "    </tr>\n",
       "    <tr>\n",
       "      <th>10235</th>\n",
       "      <td>3</td>\n",
       "      <td>There are a larger number of shark attacks in ...</td>\n",
       "      <td>animals,elections</td>\n",
       "    </tr>\n",
       "    <tr>\n",
       "      <th>10236</th>\n",
       "      <td>3</td>\n",
       "      <td>Democrats have now become the party of the [At...</td>\n",
       "      <td>elections</td>\n",
       "    </tr>\n",
       "    <tr>\n",
       "      <th>10237</th>\n",
       "      <td>2</td>\n",
       "      <td>Says an alternative to Social Security that op...</td>\n",
       "      <td>retirement,social-security</td>\n",
       "    </tr>\n",
       "    <tr>\n",
       "      <th>10238</th>\n",
       "      <td>1</td>\n",
       "      <td>On lifting the U.S. Cuban embargo and allowing...</td>\n",
       "      <td>florida,foreign-policy</td>\n",
       "    </tr>\n",
       "    <tr>\n",
       "      <th>10239</th>\n",
       "      <td>4</td>\n",
       "      <td>The Department of Veterans Affairs has a manua...</td>\n",
       "      <td>health-care,veterans</td>\n",
       "    </tr>\n",
       "  </tbody>\n",
       "</table>\n",
       "<p>10240 rows × 3 columns</p>\n",
       "</div>"
      ],
      "text/plain": [
       "       Labels                                               Text  \\\n",
       "0           1  Says the Annies List political group supports ...   \n",
       "1           2  When did the decline of coal start? It started...   \n",
       "2           3  Hillary Clinton agrees with John McCain \"by vo...   \n",
       "3           1  Health care reform legislation is likely to ma...   \n",
       "4           2  The economic turnaround started at the end of ...   \n",
       "...       ...                                                ...   \n",
       "10235       3  There are a larger number of shark attacks in ...   \n",
       "10236       3  Democrats have now become the party of the [At...   \n",
       "10237       2  Says an alternative to Social Security that op...   \n",
       "10238       1  On lifting the U.S. Cuban embargo and allowing...   \n",
       "10239       4  The Department of Veterans Affairs has a manua...   \n",
       "\n",
       "                                 Text_Tag  \n",
       "0                                abortion  \n",
       "1      energy,history,job-accomplishments  \n",
       "2                          foreign-policy  \n",
       "3                             health-care  \n",
       "4                            economy,jobs  \n",
       "...                                   ...  \n",
       "10235                   animals,elections  \n",
       "10236                           elections  \n",
       "10237          retirement,social-security  \n",
       "10238              florida,foreign-policy  \n",
       "10239                health-care,veterans  \n",
       "\n",
       "[10240 rows x 3 columns]"
      ]
     },
     "execution_count": 2,
     "metadata": {},
     "output_type": "execute_result"
    }
   ],
   "source": [
    "train = pd.read_csv(\"datasets/FakeNews/train.csv\")\n",
    "test = pd.read_csv(\"datasets/FakeNews/test.csv\")\n",
    "train"
   ]
  },
  {
   "cell_type": "code",
   "execution_count": 3,
   "metadata": {},
   "outputs": [
    {
     "data": {
      "text/html": [
       "<div>\n",
       "<style scoped>\n",
       "    .dataframe tbody tr th:only-of-type {\n",
       "        vertical-align: middle;\n",
       "    }\n",
       "\n",
       "    .dataframe tbody tr th {\n",
       "        vertical-align: top;\n",
       "    }\n",
       "\n",
       "    .dataframe thead th {\n",
       "        text-align: right;\n",
       "    }\n",
       "</style>\n",
       "<table border=\"1\" class=\"dataframe\">\n",
       "  <thead>\n",
       "    <tr style=\"text-align: right;\">\n",
       "      <th></th>\n",
       "      <th>Text</th>\n",
       "      <th>Text_Tag</th>\n",
       "    </tr>\n",
       "  </thead>\n",
       "  <tbody>\n",
       "    <tr>\n",
       "      <th>0</th>\n",
       "      <td>Building a wall on the U.S.-Mexico border will...</td>\n",
       "      <td>immigration</td>\n",
       "    </tr>\n",
       "    <tr>\n",
       "      <th>1</th>\n",
       "      <td>Wisconsin is on pace to double the number of l...</td>\n",
       "      <td>jobs</td>\n",
       "    </tr>\n",
       "    <tr>\n",
       "      <th>2</th>\n",
       "      <td>Says John McCain has done nothing to help the ...</td>\n",
       "      <td>military,veterans,voting-record</td>\n",
       "    </tr>\n",
       "    <tr>\n",
       "      <th>3</th>\n",
       "      <td>Suzanne Bonamici supports a plan that will cut...</td>\n",
       "      <td>medicare,message-machine-2012,campaign-adverti...</td>\n",
       "    </tr>\n",
       "    <tr>\n",
       "      <th>4</th>\n",
       "      <td>When asked by a reporter whether hes at the ce...</td>\n",
       "      <td>campaign-finance,legal-issues,campaign-adverti...</td>\n",
       "    </tr>\n",
       "    <tr>\n",
       "      <th>...</th>\n",
       "      <td>...</td>\n",
       "      <td>...</td>\n",
       "    </tr>\n",
       "    <tr>\n",
       "      <th>1262</th>\n",
       "      <td>Says his budget provides the highest state fun...</td>\n",
       "      <td>education</td>\n",
       "    </tr>\n",
       "    <tr>\n",
       "      <th>1263</th>\n",
       "      <td>Ive been here almost every day.</td>\n",
       "      <td>civil-rights,crime,criminal-justice</td>\n",
       "    </tr>\n",
       "    <tr>\n",
       "      <th>1264</th>\n",
       "      <td>In the early 1980s, Sen. Edward Kennedy secret...</td>\n",
       "      <td>bipartisanship,congress,foreign-policy,history</td>\n",
       "    </tr>\n",
       "    <tr>\n",
       "      <th>1265</th>\n",
       "      <td>Says an EPA permit languished under Strickland...</td>\n",
       "      <td>environment,government-efficiency</td>\n",
       "    </tr>\n",
       "    <tr>\n",
       "      <th>1266</th>\n",
       "      <td>Says the governor is going around the state ta...</td>\n",
       "      <td>state-budget,state-finances,taxes</td>\n",
       "    </tr>\n",
       "  </tbody>\n",
       "</table>\n",
       "<p>1267 rows × 2 columns</p>\n",
       "</div>"
      ],
      "text/plain": [
       "                                                   Text  \\\n",
       "0     Building a wall on the U.S.-Mexico border will...   \n",
       "1     Wisconsin is on pace to double the number of l...   \n",
       "2     Says John McCain has done nothing to help the ...   \n",
       "3     Suzanne Bonamici supports a plan that will cut...   \n",
       "4     When asked by a reporter whether hes at the ce...   \n",
       "...                                                 ...   \n",
       "1262  Says his budget provides the highest state fun...   \n",
       "1263                    Ive been here almost every day.   \n",
       "1264  In the early 1980s, Sen. Edward Kennedy secret...   \n",
       "1265  Says an EPA permit languished under Strickland...   \n",
       "1266  Says the governor is going around the state ta...   \n",
       "\n",
       "                                               Text_Tag  \n",
       "0                                           immigration  \n",
       "1                                                  jobs  \n",
       "2                       military,veterans,voting-record  \n",
       "3     medicare,message-machine-2012,campaign-adverti...  \n",
       "4     campaign-finance,legal-issues,campaign-adverti...  \n",
       "...                                                 ...  \n",
       "1262                                          education  \n",
       "1263                civil-rights,crime,criminal-justice  \n",
       "1264     bipartisanship,congress,foreign-policy,history  \n",
       "1265                  environment,government-efficiency  \n",
       "1266                  state-budget,state-finances,taxes  \n",
       "\n",
       "[1267 rows x 2 columns]"
      ]
     },
     "execution_count": 3,
     "metadata": {},
     "output_type": "execute_result"
    }
   ],
   "source": [
    "test"
   ]
  },
  {
   "cell_type": "code",
   "execution_count": 4,
   "metadata": {},
   "outputs": [],
   "source": [
    "def analyse_dataset(path_to_csv: str, n_models = 25, text_col = 'text', label_col = 'label'):\n",
    "    df = pd.read_csv(path_to_csv)\n",
    "    textos = list(df[text_col])\n",
    "    labels = list(df[label_col])\n",
    "    vectorizer = CountVectorizer(binary=True)\n",
    "    X = vectorizer.fit_transform(textos)\n",
    "\n",
    "    example_label = df[label_col][0]\n",
    "\n",
    "    scores = []\n",
    "    reports = []\n",
    "    for _ in range(n_models):\n",
    "        X_train, X_test, y_train, y_test = train_test_split(X, labels)\n",
    "\n",
    "        model_nb = MultinomialNB()\n",
    "        model_nb.fit(X_train, y_train)\n",
    "        y_pred = model_nb.predict(X_test)\n",
    "        score_nb = model_nb.score(X_test, y_test)\n",
    "        report_nb = classification_report(y_test, y_pred)\n",
    "        \n",
    "        model_lr = LogisticRegression(max_iter=1000)\n",
    "        model_lr.fit(X_train, y_train)\n",
    "        y_pred = model_lr.predict(X_test)\n",
    "        score_lr = model_lr.score(X_test, y_test)\n",
    "        report_lr = classification_report(y_test, y_pred)\n",
    "        \n",
    "        model_rf = RandomForestClassifier(n_estimators=150, n_jobs=-1, max_depth=5)\n",
    "        model_rf.fit(X_train, y_train)\n",
    "        y_pred = model_rf.predict(X_test)\n",
    "        report_rf = classification_report(y_test, y_pred)\n",
    "        score_rf = model_rf.score(X_test, y_test)\n",
    "\n",
    "        scores.append([score_nb, score_lr, score_rf])\n",
    "        reports.append([report_nb, report_lr, score_rf])\n",
    "\n",
    "    scores_nb_distro = [x[0] for x in scores]\n",
    "    scores_lr_distro = [x[1] for x in scores]\n",
    "    scores_rf_distro = [x[2] for x in scores]\n",
    "\n",
    "    nb_mean = np.mean(scores_nb_distro)\n",
    "    lr_mean = np.mean(scores_lr_distro)\n",
    "    rf_mean = np.mean(scores_rf_distro)\n",
    "\n",
    "    nb_quant = [x - nb_mean for x in np.quantile(scores_nb_distro, (0.05, 0.95))]\n",
    "    lr_quant = [x - lr_mean for x in np.quantile(scores_lr_distro, (0.05, 0.95))]\n",
    "    rf_quant = [x - rf_mean for x in np.quantile(scores_rf_distro, (0.05, 0.95))]\n",
    "\n",
    "    x_label=[\"NaiveBayes\", \"LogReg\", \"RandomForest\"]\n",
    "    print([nb_quant, lr_quant, rf_quant])\n",
    "    plt.figure(figsize=(4,9))\n",
    "    plt.bar(np.arange(len(x_label)), [nb_mean, lr_mean, rf_mean], yerr=np.reshape([nb_quant, lr_quant, rf_quant], (2,3)))\n",
    "    plt.xticks(np.arange(len(x_label)), x_label, rotation=90)\n",
    "    plt.show()\n",
    "\n",
    "    return reports"
   ]
  },
  {
   "cell_type": "code",
   "execution_count": 5,
   "metadata": {},
   "outputs": [
    {
     "data": {
      "text/plain": [
       "2    0.206445\n",
       "1    0.194824\n",
       "3    0.191602\n",
       "5    0.163672\n",
       "0    0.161523\n",
       "4    0.081934\n",
       "Name: Labels, dtype: float64"
      ]
     },
     "execution_count": 5,
     "metadata": {},
     "output_type": "execute_result"
    }
   ],
   "source": [
    "train['Labels'].value_counts(normalize=True)"
   ]
  },
  {
   "cell_type": "code",
   "execution_count": 6,
   "metadata": {},
   "outputs": [],
   "source": [
    "# reports = analyse_dataset(\"datasets/FakeNews/train.csv\", 4, text_col=\"Text\", label_col=\"Labels\")"
   ]
  },
  {
   "cell_type": "code",
   "execution_count": null,
   "metadata": {},
   "outputs": [],
   "source": []
  },
  {
   "cell_type": "code",
   "execution_count": 8,
   "metadata": {},
   "outputs": [
    {
     "name": "stdout",
     "output_type": "stream",
     "text": [
      "almighty             1.050345e-02\n",
      "tune                 7.409112e-03\n",
      "weinstein            7.302459e-03\n",
      "multimillionaires    6.633073e-03\n",
      "steadily             5.439895e-03\n",
      "                         ...     \n",
      "faculty              9.062629e-09\n",
      "decades              6.605213e-09\n",
      "famous               0.000000e+00\n",
      "centers              0.000000e+00\n",
      "began                0.000000e+00\n",
      "Length: 12196, dtype: float64\n"
     ]
    },
    {
     "data": {
      "image/png": "[encoded data removed]",
      "text/plain": [
       "<Figure size 640x480 with 1 Axes>"
      ]
     },
     "metadata": {},
     "output_type": "display_data"
    }
   ],
   "source": [
    "textos = list(train[\"Text\"])\n",
    "labels = list(train[\"Labels\"])\n",
    "vectorizer = CountVectorizer()\n",
    "X = vectorizer.fit_transform(textos)\n",
    "\n",
    "\n",
    "model_rf = RandomForestClassifier(n_estimators=300, n_jobs=-1)\n",
    "scores = cross_validate(model_rf, X, labels, n_jobs=-1, return_estimator=True)\n",
    "ax = sns.barplot(data=scores['test_score'])\n",
    "feature_importance = pd.Series(sum([v.feature_importances_ for v in scores['estimator']])/len(scores['estimator']), vectorizer.vocabulary_).sort_values(ascending=False)\n",
    "print(feature_importance[:20])"
   ]
  },
  {
   "cell_type": "code",
   "execution_count": 9,
   "metadata": {},
   "outputs": [
    {
     "name": "stdout",
     "output_type": "stream",
     "text": [
      "almighty             0.013641\n",
      "tune                 0.010769\n",
      "multimillionaires    0.009721\n",
      "weinstein            0.009682\n",
      "parking              0.008037\n",
      "                       ...   \n",
      "taxes                0.000000\n",
      "free                 0.000000\n",
      "ideas                0.000000\n",
      "scott                0.000000\n",
      "centers              0.000000\n",
      "Length: 12196, dtype: float64\n"
     ]
    },
    {
     "data": {
      "image/png": "[encoded data removed]",
      "text/plain": [
       "<Figure size 640x480 with 1 Axes>"
      ]
     },
     "metadata": {},
     "output_type": "display_data"
    }
   ],
   "source": [
    "tfidf_vec = TfidfVectorizer()\n",
    "X = tfidf_vec.fit_transform(textos)\n",
    "\n",
    "\n",
    "model_rf = RandomForestClassifier(n_estimators=300, n_jobs=-1)\n",
    "scores = cross_validate(model_rf, X, labels, n_jobs=-1,return_estimator=True)\n",
    "ax = sns.barplot(data=scores['test_score'])\n",
    "feature_importance = pd.Series(sum([v.feature_importances_ for v in scores['estimator']])/len(scores['estimator']), tfidf_vec.vocabulary_).sort_values(ascending=False)\n",
    "print(feature_importance[:20])"
   ]
  },
  {
   "cell_type": "code",
   "execution_count": 28,
   "metadata": {},
   "outputs": [
    {
     "data": {
      "text/plain": [
       "'abortion'"
      ]
     },
     "execution_count": 28,
     "metadata": {},
     "output_type": "execute_result"
    }
   ],
   "source": [
    "filter_by_tag = lambda tag: train[train['Text_Tag'].str.contains(tag, na=False)].reset_index().drop(\"index\", axis=1)\n",
    "\n",
    "# filter_by_tag(\"\")"
   ]
  }
 ],
 "metadata": {
  "interpreter": {
   "hash": "b3ba2566441a7c06988d0923437866b63cedc61552a5af99d1f4fb67d367b25f"
  },
  "kernelspec": {
   "display_name": "Python 3.9.7 ('base')",
   "language": "python",
   "name": "python3"
  },
  "language_info": {
   "codemirror_mode": {
    "name": "ipython",
    "version": 3
   },
   "file_extension": ".py",
   "mimetype": "text/x-python",
   "name": "python",
   "nbconvert_exporter": "python",
   "pygments_lexer": "ipython3",
   "version": "3.8.10"
  },
  "orig_nbformat": 4
 },
 "nbformat": 4,
 "nbformat_minor": 2
}
